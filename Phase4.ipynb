{
 "cells": [
  {
   "cell_type": "code",
   "execution_count": 4,
   "metadata": {},
   "outputs": [],
   "source": [
    "import pandas as pd\n",
    "import matplotlib.pyplot as plt\n",
    "%matplotlib inline\n",
    "import seaborn as sns\n",
    "import matplotlib.ticker as ticker\n",
    "import numpy as np\n",
    "import altair as alt\n",
    "sns.set()"
   ]
  },
  {
   "cell_type": "code",
   "execution_count": 5,
   "metadata": {},
   "outputs": [],
   "source": [
    "all_df = pd.read_csv(\"Phase5_Data.csv\")"
   ]
  },
  {
   "cell_type": "code",
   "execution_count": 6,
   "metadata": {},
   "outputs": [
    {
     "data": {
      "text/html": [
       "<div>\n",
       "<style scoped>\n",
       "    .dataframe tbody tr th:only-of-type {\n",
       "        vertical-align: middle;\n",
       "    }\n",
       "\n",
       "    .dataframe tbody tr th {\n",
       "        vertical-align: top;\n",
       "    }\n",
       "\n",
       "    .dataframe thead th {\n",
       "        text-align: right;\n",
       "    }\n",
       "</style>\n",
       "<table border=\"1\" class=\"dataframe\">\n",
       "  <thead>\n",
       "    <tr style=\"text-align: right;\">\n",
       "      <th></th>\n",
       "      <th>Subject or Topic</th>\n",
       "      <th>Number of People</th>\n",
       "      <th>Medium of Conversation</th>\n",
       "      <th>Mood after the conversation</th>\n",
       "      <th>Extroversion Scale</th>\n",
       "      <th>Submitter</th>\n",
       "      <th>Day of Week</th>\n",
       "      <th>General Category of Person</th>\n",
       "    </tr>\n",
       "  </thead>\n",
       "  <tbody>\n",
       "    <tr>\n",
       "      <th>0</th>\n",
       "      <td>Wine</td>\n",
       "      <td>3+</td>\n",
       "      <td>In Person</td>\n",
       "      <td>8</td>\n",
       "      <td>4</td>\n",
       "      <td>Erin</td>\n",
       "      <td>Friday</td>\n",
       "      <td>Friend</td>\n",
       "    </tr>\n",
       "    <tr>\n",
       "      <th>1</th>\n",
       "      <td>Golf</td>\n",
       "      <td>3</td>\n",
       "      <td>In Person</td>\n",
       "      <td>10</td>\n",
       "      <td>4</td>\n",
       "      <td>Erin</td>\n",
       "      <td>Friday</td>\n",
       "      <td>Friend</td>\n",
       "    </tr>\n",
       "    <tr>\n",
       "      <th>2</th>\n",
       "      <td>Plans</td>\n",
       "      <td>1</td>\n",
       "      <td>In Person</td>\n",
       "      <td>8</td>\n",
       "      <td>4</td>\n",
       "      <td>Erin</td>\n",
       "      <td>Friday</td>\n",
       "      <td>Friend</td>\n",
       "    </tr>\n",
       "    <tr>\n",
       "      <th>3</th>\n",
       "      <td>Dogs at the park</td>\n",
       "      <td>2</td>\n",
       "      <td>In Person</td>\n",
       "      <td>8</td>\n",
       "      <td>4</td>\n",
       "      <td>Erin</td>\n",
       "      <td>Friday</td>\n",
       "      <td>Stranger</td>\n",
       "    </tr>\n",
       "    <tr>\n",
       "      <th>4</th>\n",
       "      <td>School, movies</td>\n",
       "      <td>3</td>\n",
       "      <td>Text Chat</td>\n",
       "      <td>8</td>\n",
       "      <td>4</td>\n",
       "      <td>Jessie</td>\n",
       "      <td>Friday</td>\n",
       "      <td>Friend</td>\n",
       "    </tr>\n",
       "  </tbody>\n",
       "</table>\n",
       "</div>"
      ],
      "text/plain": [
       "   Subject or Topic Number of People Medium of Conversation  \\\n",
       "0              Wine               3+              In Person   \n",
       "1              Golf                3              In Person   \n",
       "2             Plans                1              In Person   \n",
       "3  Dogs at the park                2              In Person   \n",
       "4    School, movies                3              Text Chat   \n",
       "\n",
       "   Mood after the conversation  Extroversion Scale Submitter Day of Week  \\\n",
       "0                            8                   4      Erin      Friday   \n",
       "1                           10                   4      Erin      Friday   \n",
       "2                            8                   4      Erin      Friday   \n",
       "3                            8                   4      Erin      Friday   \n",
       "4                            8                   4    Jessie      Friday   \n",
       "\n",
       "  General Category of Person  \n",
       "0                     Friend  \n",
       "1                     Friend  \n",
       "2                     Friend  \n",
       "3                   Stranger  \n",
       "4                     Friend  "
      ]
     },
     "execution_count": 6,
     "metadata": {},
     "output_type": "execute_result"
    }
   ],
   "source": [
    "all_df.head(5)"
   ]
  },
  {
   "cell_type": "code",
   "execution_count": null,
   "metadata": {},
   "outputs": [],
   "source": []
  }
 ],
 "metadata": {
  "interpreter": {
   "hash": "caee29ed60c9618db84c676a9028c264354f21a7abbaf2c9fddd72a4efbc72ae"
  },
  "kernelspec": {
   "display_name": "Python 3.9.7 64-bit",
   "language": "python",
   "name": "python3"
  },
  "language_info": {
   "codemirror_mode": {
    "name": "ipython",
    "version": 3
   },
   "file_extension": ".py",
   "mimetype": "text/x-python",
   "name": "python",
   "nbconvert_exporter": "python",
   "pygments_lexer": "ipython3",
   "version": "3.9.7"
  },
  "orig_nbformat": 4
 },
 "nbformat": 4,
 "nbformat_minor": 2
}
