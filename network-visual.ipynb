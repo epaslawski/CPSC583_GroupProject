{
 "cells": [
  {
   "cell_type": "code",
   "execution_count": 1,
   "id": "01c84900",
   "metadata": {},
   "outputs": [],
   "source": [
    "from pyvis import network as net\n",
    "import networkx as nx\n",
    "import pandas as pd\n",
    "import numpy as np\n",
    "import matplotlib.pyplot as plt\n",
    "import matplotlib.colors as colors\n",
    "from matplotlib import rcParams, cycler\n",
    "from matplotlib.lines import Line2D\n",
    "import matplotlib.cm as cmx"
   ]
  },
  {
   "cell_type": "code",
   "execution_count": 2,
   "id": "8ca7bd7b",
   "metadata": {},
   "outputs": [],
   "source": [
    "all_df = pd.read_csv(\"Phase5_Data.csv\")\n",
    "\n",
    "#Categories needed for each person\n",
    "#Submitter, medium, mood after conversation, extroversion scale, category of person\n",
    "\n",
    "temp_df = all_df[['Submitter', 'Medium of Conversation', 'Mood after the conversation', \n",
    "                  'Extroversion Scale', 'General Category of Person']]\n",
    "\n",
    "jessie_df = temp_df.query('Submitter == \"Jessie\"')\n",
    "shaina_df = temp_df.query('Submitter == \"SR\"')\n",
    "erin_df = temp_df.query('Submitter == \"Erin\"')\n",
    "luke_df = temp_df.query('Submitter == \"Luke\"')\n",
    "\n",
    "#display(jessie_df)\n",
    "#jessie_df = jessie_df.head(5)"
   ]
  },
  {
   "cell_type": "code",
   "execution_count": 3,
   "id": "f490798d",
   "metadata": {},
   "outputs": [],
   "source": [
    "categories={\n",
    "    'Friend': '#4BC6C7', #Blue\n",
    "    'Stranger': '#a39c9b', #Gray\n",
    "    'Work': '#FFC300', #Yellow\n",
    "    'School': '#EE3110',#Red\n",
    "    'Family': '#80CD0A', #Green\n",
    "    'Other': '#7511D8' #Purple   \n",
    "}\n",
    "\n",
    "node_sizes = {\n",
    "    1: 10,\n",
    "    2: 20,\n",
    "    3: 30,\n",
    "    4: 40,\n",
    "    5: 50,\n",
    "    6: 60,\n",
    "    7: 70,\n",
    "    8: 80,\n",
    "    9: 90,\n",
    "    10: 100\n",
    "}\n",
    "\n",
    "def createSettings():\n",
    "    return net.Network(notebook=True, height='800px', width='950px')\n",
    "\n",
    "def createGraph(submitter, submitter_df):\n",
    "    #Add central name node\n",
    "    g = nx.Graph()\n",
    "    g.add_node(-1, label=submitter, size=8, title=\"central node\", color='black',group=\"central\")\n",
    "    #g.repulsion(node_distance=50, spring_length=200)\n",
    "    msg = \"placeholder\"\n",
    "    for index, row, in submitter_df.iterrows():\n",
    "        personCategory = row['General Category of Person']\n",
    "        msg = \"<p><b>Category</b>: \" + personCategory +\"</p>\"\n",
    "        g.add_node(index, label=row['Medium of Conversation'], \n",
    "                   size=node_sizes[int(row['Mood after the conversation'])],\n",
    "                   title=msg,\n",
    "                   group=\"datapoint\",\n",
    "                   value=node_sizes[int(row['Mood after the conversation'])]*10,\n",
    "                   color=categories[personCategory],\n",
    "                   mass=int(row['Mood after the conversation'])\n",
    "                  )\n",
    "        \n",
    "        g.add_edge(-1, index)\n",
    "    return g\n",
    "\n",
    "\n"
   ]
  },
  {
   "cell_type": "code",
   "execution_count": 4,
   "id": "3baaedb0",
   "metadata": {},
   "outputs": [
    {
     "data": {
      "text/html": [
       "\n",
       "        <iframe\n",
       "            width=\"950px\"\n",
       "            height=\"800px\"\n",
       "            src=\"jessie.html\"\n",
       "            frameborder=\"0\"\n",
       "            allowfullscreen\n",
       "            \n",
       "        ></iframe>\n",
       "        "
      ],
      "text/plain": [
       "<IPython.lib.display.IFrame at 0x7fe6b94409a0>"
      ]
     },
     "execution_count": 4,
     "metadata": {},
     "output_type": "execute_result"
    }
   ],
   "source": [
    "g1 = createSettings()\n",
    "nxg = createGraph(\"Jessie\", jessie_df)\n",
    "g1.from_nx(nxg)\n",
    "g1.show('jessie.html')"
   ]
  },
  {
   "cell_type": "code",
   "execution_count": 5,
   "id": "50a7d34e",
   "metadata": {},
   "outputs": [
    {
     "data": {
      "text/html": [
       "\n",
       "        <iframe\n",
       "            width=\"950px\"\n",
       "            height=\"800px\"\n",
       "            src=\"shaina.html\"\n",
       "            frameborder=\"0\"\n",
       "            allowfullscreen\n",
       "            \n",
       "        ></iframe>\n",
       "        "
      ],
      "text/plain": [
       "<IPython.lib.display.IFrame at 0x7fe7041645b0>"
      ]
     },
     "execution_count": 5,
     "metadata": {},
     "output_type": "execute_result"
    }
   ],
   "source": [
    "g2 = createSettings()\n",
    "nxg = createGraph(\"Shaina\", shaina_df)\n",
    "g2.from_nx(nxg)\n",
    "g2.show('shaina.html')"
   ]
  },
  {
   "cell_type": "code",
   "execution_count": 6,
   "id": "134e6b0d",
   "metadata": {},
   "outputs": [
    {
     "data": {
      "text/html": [
       "\n",
       "        <iframe\n",
       "            width=\"950px\"\n",
       "            height=\"800px\"\n",
       "            src=\"erin.html\"\n",
       "            frameborder=\"0\"\n",
       "            allowfullscreen\n",
       "            \n",
       "        ></iframe>\n",
       "        "
      ],
      "text/plain": [
       "<IPython.lib.display.IFrame at 0x7fe6b946dc10>"
      ]
     },
     "execution_count": 6,
     "metadata": {},
     "output_type": "execute_result"
    }
   ],
   "source": [
    "g3 = createSettings()\n",
    "nxg = createGraph(\"Erin\", erin_df)\n",
    "g3.from_nx(nxg)\n",
    "g3.show('erin.html')"
   ]
  },
  {
   "cell_type": "code",
   "execution_count": 7,
   "id": "1611d5fd",
   "metadata": {},
   "outputs": [
    {
     "data": {
      "text/html": [
       "\n",
       "        <iframe\n",
       "            width=\"950px\"\n",
       "            height=\"800px\"\n",
       "            src=\"luke.html\"\n",
       "            frameborder=\"0\"\n",
       "            allowfullscreen\n",
       "            \n",
       "        ></iframe>\n",
       "        "
      ],
      "text/plain": [
       "<IPython.lib.display.IFrame at 0x7fe6b9440d30>"
      ]
     },
     "execution_count": 7,
     "metadata": {},
     "output_type": "execute_result"
    }
   ],
   "source": [
    "g4 = createSettings()\n",
    "nxg = createGraph(\"Luke\", luke_df)\n",
    "g4.from_nx(nxg)\n",
    "g4.show('luke.html')"
   ]
  },
  {
   "cell_type": "code",
   "execution_count": null,
   "id": "b95da26e",
   "metadata": {},
   "outputs": [],
   "source": []
  }
 ],
 "metadata": {
  "kernelspec": {
   "display_name": "Python 3 (ipykernel)",
   "language": "python",
   "name": "python3"
  },
  "language_info": {
   "codemirror_mode": {
    "name": "ipython",
    "version": 3
   },
   "file_extension": ".py",
   "mimetype": "text/x-python",
   "name": "python",
   "nbconvert_exporter": "python",
   "pygments_lexer": "ipython3",
   "version": "3.8.5"
  }
 },
 "nbformat": 4,
 "nbformat_minor": 5
}
