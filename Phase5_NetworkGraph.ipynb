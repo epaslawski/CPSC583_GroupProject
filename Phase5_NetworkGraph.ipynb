{
 "cells": [
  {
   "cell_type": "markdown",
   "id": "90009afa",
   "metadata": {},
   "source": [
    "# Visualization 1 - Interactive Spider Plot"
   ]
  },
  {
   "cell_type": "markdown",
   "id": "f401ef96",
   "metadata": {},
   "source": [
    "## Background"
   ]
  },
  {
   "cell_type": "markdown",
   "id": "54751539",
   "metadata": {},
   "source": [
    "With the lockdowns of the COVID pandemic, the dynamics of interaction has also been affected. \n",
    "But people do not come in one size, they can be on the spectrum of introvert-extrovert. \n",
    "These introverts and extroverts are one of the personality traits people identify with and is one of the components in \n",
    "The Big 5 psychology test.\n",
    "\n",
    "We cannot talk about extroversion and introversion without mentioning a popular paper that shows the relationship between stimulation and arousal with introverts and extroverts. Figure 1. shows that as we increase stimulation from A to D, the arousal response gets higher, although the degree to how much varies between significantly between the two. The conclusion from this is little to moderate high stimulation arouses introverts more than extroverts, however a high degree of stimulation shows sharp decline in arousal with introverts. (Green 1984)\n",
    "\n",
    "![image](./Picture1.png)\n",
    "\n",
    "Based on this, we can only speculate how different categories of people will affect each member. We can assume that large groups would be overbearing for the introverts, but because of lockdowns encountering such situations would be rare, which should affect the extroverts negatively as they would suffer from not being exposed to lots of stimulation."
   ]
  },
  {
   "cell_type": "markdown",
   "id": "143b8be6",
   "metadata": {},
   "source": [
    "## Methodology"
   ]
  },
  {
   "cell_type": "markdown",
   "id": "f957362e",
   "metadata": {},
   "source": [
    "To address our third research question, how does extroversion affect mood of conversation with different categories of people, we created a network graph.\n",
    "\n",
    "Each member of our group of four recorded every significant interaction thought the day for an entire week. We used the same standardized form to keep it consistent between each member and merged the data altogether at the end of our data collection. Three variables that were of interest to us were the member’s extroversion level, the category of people a member interacted with, and the average mood from the category of people for that member.\n",
    "\n",
    "A network visualization was created for each of us individually, which allowed us to reflect on and think about our own interactions. Afterwards, a general graph combining all our data points was created and arranged to compare our moods across all of us within the same category of people. Within the visualizations, the average mood is represented by the size of the node and label (as well as edge length in the individual graphs), category of people by color, and the extroversion or member of the group is represented by a different shape (since we all have different extroversion levels). \n"
   ]
  },
  {
   "cell_type": "code",
   "execution_count": 1,
   "id": "c8fa095f",
   "metadata": {},
   "outputs": [],
   "source": [
    "from pyvis import network as net\n",
    "import networkx as nx\n",
    "import pandas as pd\n",
    "import numpy as np\n",
    "import matplotlib.pyplot as plt\n",
    "import matplotlib.colors as colors\n",
    "from matplotlib import rcParams, cycler\n",
    "from matplotlib.lines import Line2D\n",
    "import matplotlib.cm as cmx\n",
    "import collections\n",
    "\n",
    "all_df = pd.read_csv(\"Phase5_Data.csv\")\n",
    "\n",
    "#Categories needed for each person\n",
    "#Submitter, medium, mood after conversation, extroversion scale, category of person\n",
    "interaction_types = [\"Text\"]\n",
    "\n",
    "temp_df = all_df[['Submitter', 'Medium of Conversation', 'Mood after the conversation', \n",
    "                  'Extroversion Scale', 'General Category of Person']]\n",
    "\n",
    "jessie_df = temp_df.query('Submitter == \"Jessie\"')\n",
    "shaina_df = temp_df.query('Submitter == \"SR\"')\n",
    "erin_df = temp_df.query('Submitter == \"Erin\"')\n",
    "luke_df = temp_df.query('Submitter == \"Luke\"')\n",
    "\n",
    "categories = ['School','Family','Friend','Stranger','Other','Work']\n",
    "\n",
    "def categoryPersonPercents(submitter_df):\n",
    "    \n",
    "    res = {}\n",
    "    submitterTotal = len(submitter_df)\n",
    "    for category in categories:\n",
    "        temp_df = submitter_df[submitter_df[\"General Category of Person\"] == category]\n",
    "        categoryTotal = len(temp_df)\n",
    "        moodAverage = temp_df[\"Mood after the conversation\"].mean()        \n",
    "        percentage = (categoryTotal/submitterTotal)*100\n",
    "        if (percentage != 0):\n",
    "            res[category] = moodAverage\n",
    "    \n",
    "    \n",
    "    #res = sorted(res.items(), key=lambda x: x[1])    \n",
    "    return res\n",
    "\n",
    "\n",
    "\n",
    "jessie_categories = categoryPersonPercents(jessie_df)\n",
    "shaina_categories = categoryPersonPercents(shaina_df)\n",
    "erin_categories = categoryPersonPercents(erin_df)\n",
    "luke_categories = categoryPersonPercents(luke_df)\n",
    "\n",
    "categories_color={\n",
    "    'Friend': '#4BC6C7', #Blue\n",
    "    'Stranger': '#a39c9b', #Gray\n",
    "    'Work': '#FFC300', #Yellow\n",
    "    'School': '#EE3110',#Red\n",
    "    'Family': '#80CD0A', #Green\n",
    "    'Other': '#7511D8' #Purple   \n",
    "}\n",
    "\n",
    "submitter_shape = {\n",
    "    'Jessie': 'square', #Blue\n",
    "    'Shaina': 'diamond', #Yellow\n",
    "    'Erin': 'triangle',#Red\n",
    "    'Luke': 'dot', #Green  \n",
    "}\n",
    "\n",
    "extraversion = {\n",
    "    \"Jessie\": 4,\n",
    "    \"Erin\": 5,\n",
    "    \"Shaina\": 3,\n",
    "    \"Luke\": 7\n",
    "}\n",
    "\n",
    "node_sizes = {\n",
    "    1: 10,\n",
    "    2: 20,\n",
    "    3: 30,\n",
    "    4: 40,\n",
    "    5: 50,\n",
    "    6: 60,\n",
    "    7: 70,\n",
    "    8: 80,\n",
    "    9: 90,\n",
    "    10: 100\n",
    "}\n",
    "\n",
    "# Find submitter's percentage for each type of person interaction\n",
    "percentages = []\n",
    "categories = ['School','Family','Friend','Stranger','Other','Work']\n",
    "\n",
    "\n",
    "def createSettings():\n",
    "    return net.Network(notebook=True, height='800px', width='950px')\n",
    "\n",
    "\n",
    "\n",
    "def createGraph(submitter, category_res, shape, g = None):\n",
    "    #Add central name node\n",
    "    if (g == None):\n",
    "        g = nx.Graph()\n",
    "   \n",
    "    g.add_node(-1, label=submitter, color=\"black\", size=20, title=\"central node\", group=\"central\")\n",
    "    #g.repulsion(node_distance=50, spring_length=200)\n",
    "    msg = \"placeholder\"\n",
    "    index = 0\n",
    "    for item in category_res.items():\n",
    "        labelMsg = f\"{item[0]} ({round(item[1], 2)})\"\n",
    "        msg = f\"<p><b>Category: </b>{item[0]} <br><b>Average mood: </b>{round(item[1],2)}<br><b>Extroversion: </b>{extraversion[submitter]}</p>\"\n",
    "        g.add_node(index, \n",
    "                   label=labelMsg,                   \n",
    "                   #Size = total propoprtion\n",
    "                   size=item[1]*10,\n",
    "                   title=msg,\n",
    "                   group=\"datapoint\",\n",
    "                   #value=value[1]*10,\n",
    "                   color=categories_color[item[0]],\n",
    "                   mass=item[1],\n",
    "                   shape=shape\n",
    "                )    \n",
    "        g.add_edge(-1, index, length=item[1]*item[1]*10)\n",
    "        index+=1\n",
    "        \n",
    "    return g\n",
    "\n",
    "g1 = createSettings()\n",
    "nxg = createGraph(\"Jessie\", jessie_categories, \"square\")\n",
    "g1.from_nx(nxg)\n",
    "\n",
    "g2 = createSettings()\n",
    "nxg = createGraph(\"Shaina\", shaina_categories, \"diamond\")\n",
    "g2.from_nx(nxg)\n",
    "\n",
    "g3 = createSettings()\n",
    "nxg = createGraph(\"Erin\", erin_categories, \"triangle\")\n",
    "g3.from_nx(nxg)\n",
    "\n",
    "g4 = createSettings()\n",
    "nxg = createGraph(\"Luke\", luke_categories, \"dot\")\n",
    "g4.from_nx(nxg)\n",
    "\n",
    "\n",
    "g5 = createSettings()\n",
    "#g5.show_buttons(filter_=['nodes'])\n",
    "submitters = [jessie_categories, shaina_categories, erin_categories, luke_categories]\n",
    "g = nx.Graph()\n",
    "g.add_node(-1, label=\"ALL\", color=\"black\", size=20, title=\"Central node\", group=\"central\")\n",
    "\n",
    "index = 0\n",
    "outerIndex = 0\n",
    "shapes = [\"square\", \"diamond\", \"triangle\", \"dot\"]\n",
    "msg = \"trst\"\n",
    "categories = ['School','Family','Friend','Stranger','Other','Work']\n",
    "\n",
    "submitter_color2={\n",
    "    'jessie_categories': '#4BC6C7', #Blue\n",
    "    'shaina_categories': '#FFC300', #Yellow\n",
    "    'erin_categories': '#EE3110',#Red\n",
    "    'luke_categories': '#80CD0A', #Green  \n",
    "}\n",
    "\n",
    "\n",
    "def addNodes(g, item, submitter, df, index, prevIndex, start=None):\n",
    "\n",
    "    if item in df.keys():\n",
    "        #print(categories_color[item])\n",
    "        labelMsg = f\"{item} ({round(df[item], 2)})\"\n",
    "        msg = f\"<p><b>Category: </b>{item} <br><b>Average mood: </b>{round(df[item],2)}<br><b>Extroversion: </b>{extraversion[submitter]}<br><b>Submitter:</b> {submitter}</p>\"\n",
    "        g.add_node(index, \n",
    "                       label=labelMsg,                   \n",
    "                       #Size = total propoprtion\n",
    "                       size=df[item]*5,\n",
    "                       title=msg,\n",
    "                       group=submitter,\n",
    "                       #value=value[1]*10,\n",
    "                       color=categories_color[item],\n",
    "                       mass=df[item],\n",
    "                       width=1,\n",
    "                       shape=submitter_shape[submitter]\n",
    "                    )\n",
    "        if (prevIndex != index):\n",
    "  \n",
    "            g.add_edge(prevIndex, index)\n",
    "        if (start != None):\n",
    "            g.add_edge(index, start)\n",
    "       \n",
    "        prevIndex = index\n",
    "        index+=1\n",
    "    \n",
    "    return (index, prevIndex)\n",
    "\n",
    "\n",
    "#Link all the same category nodes\n",
    "for item in categories:\n",
    "\n",
    "    prevIndex=-1\n",
    "    \n",
    "    start = index\n",
    "    indexes = addNodes(g, item, 'Jessie', jessie_categories, index, prevIndex)\n",
    "    indexes = addNodes(g, item, 'Shaina', shaina_categories, indexes[0], indexes[1])\n",
    "    indexes = addNodes(g, item, 'Luke', luke_categories, indexes[0], indexes[1])\n",
    "    indexes = addNodes(g, item, 'Erin', erin_categories, indexes[0], indexes[1], start)\n",
    "    \n",
    "    index = indexes[0]+1\n",
    "\n",
    "g5.from_nx(g)\n",
    "\n",
    "#Legend\n",
    "\n",
    "i = 0\n",
    "j = 1\n",
    "gLegend = nx.Graph()\n",
    "topRow = []\n",
    "bottomRow = []\n",
    "\n",
    "for key in node_sizes.keys():\n",
    "    msg = f\"Mood: {key}\"\n",
    "    gLegend.add_node(i, label='Central node', size=20, group=key, mass=key, shape=\"dot\", color='black')\n",
    "    gLegend.add_node(j, label=msg, size=key*10, group=key, mass=key, shape = \"square\", color='black')\n",
    "    gLegend.add_edge(i, j, length=key*key*10)\n",
    "    topRow.append(i)\n",
    "    bottomRow.append(j)\n",
    "    \n",
    "    i+=2\n",
    "    j+=2\n",
    "    \n",
    "for i in range(0, len(topRow)-1):\n",
    "    gLegend.add_edge(topRow[i], topRow[i+1])\n",
    "    gLegend.add_edge(bottomRow[i], bottomRow[i+1])\n",
    "    \n",
    "\n",
    "\n",
    "legend = createSettings()\n",
    "legend.from_nx(gLegend)\n"
   ]
  },
  {
   "cell_type": "markdown",
   "id": "25fa844a",
   "metadata": {},
   "source": [
    "## Findings\n"
   ]
  },
  {
   "cell_type": "code",
   "execution_count": 2,
   "id": "3ccc9621",
   "metadata": {},
   "outputs": [
    {
     "data": {
      "text/html": [
       "\n",
       "        <iframe\n",
       "            width=\"950px\"\n",
       "            height=\"800px\"\n",
       "            src=\"all.html\"\n",
       "            frameborder=\"0\"\n",
       "            allowfullscreen\n",
       "            \n",
       "        ></iframe>\n",
       "        "
      ],
      "text/plain": [
       "<IPython.lib.display.IFrame at 0x7f7c3a31a280>"
      ]
     },
     "execution_count": 2,
     "metadata": {},
     "output_type": "execute_result"
    }
   ],
   "source": [
    "g5.show('all.html')"
   ]
  },
  {
   "cell_type": "markdown",
   "id": "06c04b87",
   "metadata": {},
   "source": [
    "We start by presenting an overall view of the data, where we plotted all of our data points, with each member in our group with different extraversion levels represented by a different shape (Jessie = square, Erin = triangle, Luke = circle, Shaina = diamond). \n",
    "\n",
    "There are six distinct categories of different people, defined by color: Family (green), School (red), Friend (cyan), Stranger (gray), Work (yellow), and Other (purple). Each node label includes the category and average mood for that submitter/extraversion level. \n",
    "\n",
    "When comparing results in the overall graph, the highest average mood in Family belonged to Luke at 8.75.  In Stranger, the highest was from Shaina at 6.5. with friends, Luke also had the highest with 8.75. In School, Shaina had the highest with 7.33. And finally in Other, Luke again had the highest with 7.62. he was also the only person in our group with a datapoint in the Other category. The category with the highest overall average would be in Friends, where all of us had an average rating of 6.95 or higher. In general, we can see that Luke, who has the highest extraversion rating at 7, experiences higher mood in general interacting with various groups of people. Shaina and Erin both experience relatively higher average mood in School. \n"
   ]
  },
  {
   "cell_type": "markdown",
   "id": "703746cb",
   "metadata": {},
   "source": [
    "### Legend "
   ]
  },
  {
   "cell_type": "markdown",
   "id": "61054bd0",
   "metadata": {},
   "source": [
    "Here is a legend showing how the size of a node (individual, overall graph) and the length of the edge (individual graph) corresponds to average mood. Edge length is not used to encode mood in the overall graph due to spacing constraints and aesthetic reasons.\n"
   ]
  },
  {
   "cell_type": "code",
   "execution_count": 14,
   "id": "9ec50e6d",
   "metadata": {},
   "outputs": [
    {
     "data": {
      "text/html": [
       "\n",
       "        <iframe\n",
       "            width=\"950px\"\n",
       "            height=\"800px\"\n",
       "            src=\"legend.html\"\n",
       "            frameborder=\"0\"\n",
       "            allowfullscreen\n",
       "            \n",
       "        ></iframe>\n",
       "        "
      ],
      "text/plain": [
       "<IPython.lib.display.IFrame at 0x7f7bebcff100>"
      ]
     },
     "execution_count": 14,
     "metadata": {},
     "output_type": "execute_result"
    }
   ],
   "source": [
    "legend.show(\"legend.html\")"
   ]
  },
  {
   "cell_type": "markdown",
   "id": "6eb172e9",
   "metadata": {},
   "source": [
    "### Erin (The Ambiverted Extrovert, extraversion = 5)"
   ]
  },
  {
   "cell_type": "code",
   "execution_count": 4,
   "id": "999884ec",
   "metadata": {},
   "outputs": [
    {
     "data": {
      "text/html": [
       "\n",
       "        <iframe\n",
       "            width=\"950px\"\n",
       "            height=\"800px\"\n",
       "            src=\"erin.html\"\n",
       "            frameborder=\"0\"\n",
       "            allowfullscreen\n",
       "            \n",
       "        ></iframe>\n",
       "        "
      ],
      "text/plain": [
       "<IPython.lib.display.IFrame at 0x7f7c3826d490>"
      ]
     },
     "execution_count": 4,
     "metadata": {},
     "output_type": "execute_result"
    }
   ],
   "source": [
    "g3.show('erin.html')"
   ]
  },
  {
   "cell_type": "markdown",
   "id": "b9d25f7d",
   "metadata": {},
   "source": [
    "For my interactions, I am not too surprised with the outcome. I was thinking that I would have more positive interactions with friends, and my lowest average would be work colleagues. I am surprised that my interactions with strangers were rated so high, higher even than my family. Looking at the results I would like to put more effort into conversations I have with my family and perhaps have more meaningful conversations with them. "
   ]
  },
  {
   "cell_type": "code",
   "execution_count": 5,
   "id": "f0986b4b",
   "metadata": {},
   "outputs": [],
   "source": [
    "### Jessie (The Ambivert, extraversion = 4)"
   ]
  },
  {
   "cell_type": "code",
   "execution_count": 6,
   "id": "b85f506f",
   "metadata": {},
   "outputs": [
    {
     "data": {
      "text/html": [
       "\n",
       "        <iframe\n",
       "            width=\"950px\"\n",
       "            height=\"800px\"\n",
       "            src=\"jessie.html\"\n",
       "            frameborder=\"0\"\n",
       "            allowfullscreen\n",
       "            \n",
       "        ></iframe>\n",
       "        "
      ],
      "text/plain": [
       "<IPython.lib.display.IFrame at 0x7f7c382bb880>"
      ]
     },
     "execution_count": 6,
     "metadata": {},
     "output_type": "execute_result"
    }
   ],
   "source": [
    "g1.show('jessie.html')"
   ]
  },
  {
   "cell_type": "markdown",
   "id": "104f4c56",
   "metadata": {},
   "source": [
    "For my interactions, I was surprised that all of them are very similar and less than 1.0 points off for each category. This tells me that my mood for that week was very consistent regardless of the interaction. I didn’t feel withdrawn or shy when interacting with any groups in particular. I expected my mood to be higher when interacting with my friends, since I feel the most outgoing when I talk and joke around with my close friends. I don’t think that social interactions energize me as much as I expect them "
   ]
  },
  {
   "cell_type": "code",
   "execution_count": 7,
   "id": "732f112e",
   "metadata": {},
   "outputs": [],
   "source": [
    "### Luke (The Extrovert, extraversion = 7)"
   ]
  },
  {
   "cell_type": "code",
   "execution_count": 8,
   "id": "df1fd481",
   "metadata": {},
   "outputs": [
    {
     "data": {
      "text/html": [
       "\n",
       "        <iframe\n",
       "            width=\"950px\"\n",
       "            height=\"800px\"\n",
       "            src=\"luke.html\"\n",
       "            frameborder=\"0\"\n",
       "            allowfullscreen\n",
       "            \n",
       "        ></iframe>\n",
       "        "
      ],
      "text/plain": [
       "<IPython.lib.display.IFrame at 0x7f7bebcff070>"
      ]
     },
     "execution_count": 8,
     "metadata": {},
     "output_type": "execute_result"
    }
   ],
   "source": [
    "g4.show('luke.html')"
   ]
  },
  {
   "cell_type": "markdown",
   "id": "129783c7",
   "metadata": {},
   "source": [
    "I am not surprised by my results at all. Family and friends have lifted my mood so much as I struggle through a stressful transition period in my life of graduating university and finding a job. It is evident that school excites me the least, perhaps a lot has to do with working online and not finding the personal interaction and being deprived of this extroverted energy, I associate the interaction as strictly work related, making me anticipate and set the mood to stressful \n",
    "before the interaction has even happened."
   ]
  },
  {
   "cell_type": "code",
   "execution_count": 9,
   "id": "54962930",
   "metadata": {},
   "outputs": [],
   "source": [
    "### Shaina (The Introvert, extraversion = 3)"
   ]
  },
  {
   "cell_type": "code",
   "execution_count": 10,
   "id": "03affdb8",
   "metadata": {},
   "outputs": [
    {
     "data": {
      "text/html": [
       "\n",
       "        <iframe\n",
       "            width=\"950px\"\n",
       "            height=\"800px\"\n",
       "            src=\"shaina.html\"\n",
       "            frameborder=\"0\"\n",
       "            allowfullscreen\n",
       "            \n",
       "        ></iframe>\n",
       "        "
      ],
      "text/plain": [
       "<IPython.lib.display.IFrame at 0x7f7bebcfff70>"
      ]
     },
     "execution_count": 10,
     "metadata": {},
     "output_type": "execute_result"
    }
   ],
   "source": [
    "g2.show('shaina.html')"
   ]
  },
  {
   "cell_type": "markdown",
   "id": "98579e5e",
   "metadata": {},
   "source": [
    "I kind of expected the results to vary between different categories of people, but the averages seem to be almost consistent through different categories. I’m surprised that school is the highest one (by only a small amount) but I think this was due to the fact that I was working on a fun project that week. Family and friends are also similar in that I feel much more comfortable to converse with them about hobbies, school, etc. I don’t really interact with strangers much in person, but I have had conversations through discord for matters about school, homework help and I always feel happy to help some stranger over discord. I feel that my extroversion levels have not really affected my mood across different interactions with different people; more so that they are about equal, and they don’t really reach the extreme mood rating nor the lowest mood rating across the categories. "
   ]
  },
  {
   "cell_type": "markdown",
   "id": "ee77f3cb",
   "metadata": {},
   "source": [
    "## Conclusion"
   ]
  },
  {
   "cell_type": "markdown",
   "id": "fe2f0d06",
   "metadata": {},
   "source": [
    "Luke associates negative stimulation with schoolwork, and this result is reflected both in his reflection as well as his overall score in the charts. Whereas Shaina showed the opposite result, where school interactions were her highest mood category due to her having more “fun” interactions during that week. With Shaina being the introvert, it is not unsurprising to have higher than average mood after each interaction since the stimulation would have been the right zone where there is high stimulation but not high enough to be overstimulating and negative.\n",
    "\n",
    "Erin made a comment that she experienced a surprisingly high mood from strangers, perhaps she encountered people who created a large amount of stimulation. Jessie’s average mood ratings across all categories were more or less the very similar. \n",
    "In conclusion, it is hard to answer our research question with our data set. Our mood ratings in each category were similar and there are no obvious outliers. As well, we have 3 categories where we did not all record conversations with- Other, Work and Stranger, so we cannot easily compare extroverts and introverts. We also have to keep in mind that because of the pandemic, each of us don’t have as much interaction with a variety of people compared to before the pandemic occurred. \n"
   ]
  },
  {
   "cell_type": "markdown",
   "id": "b0f300ca",
   "metadata": {},
   "source": [
    "## References"
   ]
  },
  {
   "cell_type": "markdown",
   "id": "66025b8c",
   "metadata": {},
   "source": [
    "Green, R. G. (1984). Preferred stimulation levels in introverts and extroverts: Effects on arousal and performance. Journal of Personality and Social Psychology, 46(6), 1303–1312. https://doi.org/10.1037/0022-3514.46.6.1303"
   ]
  }
 ],
 "metadata": {
  "kernelspec": {
   "display_name": "Python 3 (ipykernel)",
   "language": "python",
   "name": "python3"
  },
  "language_info": {
   "codemirror_mode": {
    "name": "ipython",
    "version": 3
   },
   "file_extension": ".py",
   "mimetype": "text/x-python",
   "name": "python",
   "nbconvert_exporter": "python",
   "pygments_lexer": "ipython3",
   "version": "3.8.5"
  }
 },
 "nbformat": 4,
 "nbformat_minor": 5
}
