{
 "cells": [
  {
   "cell_type": "code",
   "execution_count": 1,
   "id": "01c84900",
   "metadata": {},
   "outputs": [],
   "source": [
    "from pyvis import network as net\n",
    "import networkx as nx\n",
    "import pandas as pd\n",
    "import numpy as np\n",
    "import matplotlib.pyplot as plt\n",
    "import matplotlib.colors as colors\n",
    "from matplotlib import rcParams, cycler\n",
    "from matplotlib.lines import Line2D\n",
    "import matplotlib.cm as cmx\n",
    "import collections"
   ]
  },
  {
   "cell_type": "code",
   "execution_count": 2,
   "id": "60d77ab5",
   "metadata": {},
   "outputs": [],
   "source": [
    "all_df = pd.read_csv(\"Phase5_Data.csv\")\n",
    "\n",
    "#Categories needed for each person\n",
    "#Submitter, medium, mood after conversation, extroversion scale, category of person\n",
    "interaction_types = [\"Text\"]\n",
    "\n",
    "temp_df = all_df[['Submitter', 'Medium of Conversation', 'Mood after the conversation', \n",
    "                  'Extroversion Scale', 'General Category of Person']]\n",
    "\n",
    "jessie_df = temp_df.query('Submitter == \"Jessie\"')\n",
    "shaina_df = temp_df.query('Submitter == \"SR\"')\n",
    "erin_df = temp_df.query('Submitter == \"Erin\"')\n",
    "luke_df = temp_df.query('Submitter == \"Luke\"')\n",
    "\n",
    "#print(len(jessie_df.query('`General Category of Person` == \"Friend\"')))\n",
    "#jessie_df = jessie_df.head(5)\n",
    "#print(len(jessie_df))\n",
    "\n",
    "\n",
    "categories = ['School','Family','Friend','Stranger','Other','Work']\n",
    "\n",
    "def categoryPersonPercents(submitter_df):\n",
    "    \n",
    "    res = {}\n",
    "    submitterTotal = len(submitter_df)\n",
    "    for category in categories:\n",
    "        temp_df = submitter_df[submitter_df[\"General Category of Person\"] == category]\n",
    "        categoryTotal = len(temp_df)\n",
    "        moodAverage = temp_df[\"Mood after the conversation\"].mean()        \n",
    "        percentage = (categoryTotal/submitterTotal)*100\n",
    "        if (percentage != 0):\n",
    "            res[category] = moodAverage\n",
    "    \n",
    "    \n",
    "    #res = sorted(res.items(), key=lambda x: x[1])    \n",
    "    return res\n",
    "\n",
    "\n",
    "\n",
    "jessie_categories = categoryPersonPercents(jessie_df)\n",
    "shaina_categories = categoryPersonPercents(shaina_df)\n",
    "erin_categories = categoryPersonPercents(erin_df)\n",
    "luke_categories = categoryPersonPercents(luke_df)\n",
    "\n",
    "    \n"
   ]
  },
  {
   "cell_type": "code",
   "execution_count": 3,
   "id": "f490798d",
   "metadata": {},
   "outputs": [],
   "source": [
    "categories_color={\n",
    "    'Friend': '#4BC6C7', #Blue\n",
    "    'Stranger': '#a39c9b', #Gray\n",
    "    'Work': '#FFC300', #Yellow\n",
    "    'School': '#EE3110',#Red\n",
    "    'Family': '#80CD0A', #Green\n",
    "    'Other': '#7511D8' #Purple   \n",
    "}\n",
    "\n",
    "submitter_shape = {\n",
    "    'Jessie': 'square', #Blue\n",
    "    'Shaina': 'diamond', #Yellow\n",
    "    'Erin': 'triangle',#Red\n",
    "    'Luke': 'dot', #Green  \n",
    "}\n",
    "submitter_color={\n",
    "    'Jessie': '#4BC6C7', #Blue\n",
    "    'Shaina': '#FFC300', #Yellow\n",
    "    'Erin': '#EE3110',#Red\n",
    "    'Luke': '#80CD0A', #Green  \n",
    "}\n",
    "\n",
    "category_shapes={\n",
    "    'Friend': 'dot', #Blue\n",
    "    'Stranger': 'diamond', #Gray\n",
    "    'Work': 'triangle', #Yellow\n",
    "    'School': 'square',#Red\n",
    "    'Family': 'star', #Green\n",
    "    'Other': 'triangleDown' #Purple   \n",
    "}\n",
    "\n",
    "extraversion = {\n",
    "    \"Jessie\": 4,\n",
    "    \"Erin\": 5,\n",
    "    \"Shaina\": 3,\n",
    "    \"Luke\": 7\n",
    "}\n",
    "\n",
    "node_sizes = {\n",
    "    1: 10,\n",
    "    2: 20,\n",
    "    3: 30,\n",
    "    4: 40,\n",
    "    5: 50,\n",
    "    6: 60,\n",
    "    7: 70,\n",
    "    8: 80,\n",
    "    9: 90,\n",
    "    10: 100\n",
    "}\n",
    "\n",
    "# Find submitter's percentage for each type of person interaction\n",
    "percentages = []\n",
    "categories = ['School','Family','Friend','Stranger','Other','Work']\n",
    "\n",
    "\n",
    "\n",
    "\n",
    "def createSettings():\n",
    "    return net.Network(notebook=True, height='800px', width='950px')\n",
    "\n",
    "\"\"\"\n",
    "def createGraph(submitter, submitter_df, shape):\n",
    "    #Add central name node\n",
    "    g = nx.Graph()\n",
    "    g.add_node(-1, label=submitter, size=8, title=\"central node\", color='black',group=\"central\")\n",
    "    #g.repulsion(node_distance=50, spring_length=200)\n",
    "    msg = \"placeholder\"\n",
    "    for index, row, in submitter_df.iterrows():\n",
    "        personCategory = row['General Category of Person']\n",
    "        msg = \"<p><b>Category</b>: \" + personCategory +\"</p>\"\n",
    "        g.add_node(index, label=row['Medium of Conversation'], \n",
    "                   size=node_sizes[int(row['Mood after the conversation'])],\n",
    "                   title=msg,\n",
    "                   group=\"datapoint\",\n",
    "                   value=node_sizes[int(row['Mood after the conversation'])]*10,\n",
    "                   color=categories[personCategory],\n",
    "                   mass=int(row['Mood after the conversation']),\n",
    "                   shape=shape)        \n",
    "        g.add_edge(-1, index)\n",
    "    return g\n",
    "\"\"\"\n",
    "\n",
    "\n",
    "def createGraph(submitter, category_res, shape, g = None):\n",
    "    #Add central name node\n",
    "    if (g == None):\n",
    "        g = nx.Graph()\n",
    "   \n",
    "    print(\"NOT NONE\")\n",
    "    g.add_node(-1, label=submitter, color=\"black\", size=20, title=\"central node\", group=\"central\")\n",
    "    #g.repulsion(node_distance=50, spring_length=200)\n",
    "    msg = \"placeholder\"\n",
    "    index = 0\n",
    "    for item in category_res.items():\n",
    "        labelMsg = f\"{item[0]} ({round(item[1], 2)})\"\n",
    "        msg = f\"<p><b>Category: </b>{item[0]} <br><b>Average mood: </b>{round(item[1],2)}<br><b>Extroversion: </b>{extraversion[submitter]}</p>\"\n",
    "        print(item)\n",
    "        g.add_node(index, \n",
    "                   label=labelMsg,                   \n",
    "                   #Size = total propoprtion\n",
    "                   size=item[1]*10,\n",
    "                   title=msg,\n",
    "                   group=\"datapoint\",\n",
    "                   #value=value[1]*10,\n",
    "                   color=categories_color[item[0]],\n",
    "                   mass=item[1],\n",
    "                   shape=shape\n",
    "                )    \n",
    "        g.add_edge(-1, index, length=item[1]*item[1]*10)\n",
    "        index+=1\n",
    "        \n",
    "    return g"
   ]
  },
  {
   "cell_type": "code",
   "execution_count": 4,
   "id": "e4f1e317",
   "metadata": {},
   "outputs": [
    {
     "name": "stdout",
     "output_type": "stream",
     "text": [
      "0 1\n",
      "2 3\n",
      "4 5\n",
      "6 7\n",
      "8 9\n",
      "10 11\n",
      "12 13\n",
      "14 15\n",
      "16 17\n",
      "18 19\n",
      "[0, 2, 4, 6, 8, 10, 12, 14, 16, 18]\n"
     ]
    },
    {
     "data": {
      "text/html": [
       "\n",
       "        <iframe\n",
       "            width=\"950px\"\n",
       "            height=\"800px\"\n",
       "            src=\"legend.html\"\n",
       "            frameborder=\"0\"\n",
       "            allowfullscreen\n",
       "            \n",
       "        ></iframe>\n",
       "        "
      ],
      "text/plain": [
       "<IPython.lib.display.IFrame at 0x7f2b2c6040a0>"
      ]
     },
     "execution_count": 4,
     "metadata": {},
     "output_type": "execute_result"
    }
   ],
   "source": [
    "#Legend\n",
    "\n",
    "i = 0\n",
    "j = 1\n",
    "gLegend = nx.Graph()\n",
    "topRow = []\n",
    "bottomRow = []\n",
    "\n",
    "for key in node_sizes.keys():\n",
    "    print(i,j)\n",
    "    msg = f\"Mood: {key}\"\n",
    "    gLegend.add_node(i, label='Central node', size=20, group=key, mass=key, shape=\"dot\", color='black')\n",
    "    gLegend.add_node(j, label=msg, size=key*10, group=key, mass=key, shape = \"square\", color='black')\n",
    "    gLegend.add_edge(i, j, length=key*key*10)\n",
    "    topRow.append(i)\n",
    "    bottomRow.append(j)\n",
    "    \n",
    "    i+=2\n",
    "    j+=2\n",
    "    \n",
    "print(topRow)\n",
    "for i in range(0, len(topRow)-1):\n",
    "    gLegend.add_edge(topRow[i], topRow[i+1])\n",
    "    gLegend.add_edge(bottomRow[i], bottomRow[i+1])\n",
    "    \n",
    "\n",
    "\n",
    "legend = createSettings()\n",
    "legend.from_nx(gLegend)\n",
    "legend.show(\"legend.html\")\n",
    "\n",
    "\n"
   ]
  },
  {
   "cell_type": "code",
   "execution_count": 5,
   "id": "a4f604b4",
   "metadata": {},
   "outputs": [
    {
     "name": "stdout",
     "output_type": "stream",
     "text": [
      "NOT NONE\n",
      "('School', 6.375)\n",
      "('Family', 6.333333333333333)\n",
      "('Friend', 6.954545454545454)\n",
      "('Work', 6.166666666666667)\n"
     ]
    },
    {
     "data": {
      "text/html": [
       "\n",
       "        <iframe\n",
       "            width=\"950px\"\n",
       "            height=\"800px\"\n",
       "            src=\"jessie.html\"\n",
       "            frameborder=\"0\"\n",
       "            allowfullscreen\n",
       "            \n",
       "        ></iframe>\n",
       "        "
      ],
      "text/plain": [
       "<IPython.lib.display.IFrame at 0x7f2b2c639fd0>"
      ]
     },
     "execution_count": 5,
     "metadata": {},
     "output_type": "execute_result"
    }
   ],
   "source": [
    "g1 = createSettings()\n",
    "nxg = createGraph(\"Jessie\", jessie_categories, \"square\")\n",
    "g1.from_nx(nxg)\n",
    "g1.show('jessie.html')"
   ]
  },
  {
   "cell_type": "code",
   "execution_count": 6,
   "id": "69179b43",
   "metadata": {},
   "outputs": [
    {
     "name": "stdout",
     "output_type": "stream",
     "text": [
      "NOT NONE\n",
      "('School', 7.333333333333333)\n",
      "('Family', 7.173913043478261)\n",
      "('Friend', 7.1)\n",
      "('Stranger', 6.5)\n"
     ]
    },
    {
     "data": {
      "text/html": [
       "\n",
       "        <iframe\n",
       "            width=\"950px\"\n",
       "            height=\"800px\"\n",
       "            src=\"shaina.html\"\n",
       "            frameborder=\"0\"\n",
       "            allowfullscreen\n",
       "            \n",
       "        ></iframe>\n",
       "        "
      ],
      "text/plain": [
       "<IPython.lib.display.IFrame at 0x7f2b2c604a90>"
      ]
     },
     "execution_count": 6,
     "metadata": {},
     "output_type": "execute_result"
    }
   ],
   "source": [
    "g2 = createSettings()\n",
    "nxg = createGraph(\"Shaina\", shaina_categories, \"diamond\")\n",
    "g2.from_nx(nxg)\n",
    "g2.show('shaina.html')"
   ]
  },
  {
   "cell_type": "code",
   "execution_count": 7,
   "id": "9b7c8243",
   "metadata": {},
   "outputs": [
    {
     "name": "stdout",
     "output_type": "stream",
     "text": [
      "NOT NONE\n",
      "('School', 7.0)\n",
      "('Family', 6.333333333333333)\n",
      "('Friend', 7.785714285714286)\n",
      "('Stranger', 6.375)\n",
      "('Work', 5.777777777777778)\n"
     ]
    },
    {
     "data": {
      "text/html": [
       "\n",
       "        <iframe\n",
       "            width=\"950px\"\n",
       "            height=\"800px\"\n",
       "            src=\"erin.html\"\n",
       "            frameborder=\"0\"\n",
       "            allowfullscreen\n",
       "            \n",
       "        ></iframe>\n",
       "        "
      ],
      "text/plain": [
       "<IPython.lib.display.IFrame at 0x7f2b7836d040>"
      ]
     },
     "execution_count": 7,
     "metadata": {},
     "output_type": "execute_result"
    }
   ],
   "source": [
    "g3 = createSettings()\n",
    "nxg = createGraph(\"Erin\", erin_categories, \"triangle\")\n",
    "g3.from_nx(nxg)\n",
    "g3.show('erin.html')"
   ]
  },
  {
   "cell_type": "code",
   "execution_count": 8,
   "id": "283ad2d8",
   "metadata": {},
   "outputs": [
    {
     "name": "stdout",
     "output_type": "stream",
     "text": [
      "NOT NONE\n",
      "('School', 6.166666666666667)\n",
      "('Family', 8.75)\n",
      "('Friend', 8.571428571428571)\n",
      "('Stranger', 6.2)\n",
      "('Other', 6.846153846153846)\n",
      "('Work', 7.625)\n"
     ]
    },
    {
     "data": {
      "text/html": [
       "\n",
       "        <iframe\n",
       "            width=\"950px\"\n",
       "            height=\"800px\"\n",
       "            src=\"luke.html\"\n",
       "            frameborder=\"0\"\n",
       "            allowfullscreen\n",
       "            \n",
       "        ></iframe>\n",
       "        "
      ],
      "text/plain": [
       "<IPython.lib.display.IFrame at 0x7f2b2c620e20>"
      ]
     },
     "execution_count": 8,
     "metadata": {},
     "output_type": "execute_result"
    }
   ],
   "source": [
    "g4 = createSettings()\n",
    "nxg = createGraph(\"Luke\", luke_categories, \"dot\")\n",
    "g4.from_nx(nxg)\n",
    "g4.show('luke.html')"
   ]
  },
  {
   "cell_type": "code",
   "execution_count": 9,
   "id": "01409d8c",
   "metadata": {},
   "outputs": [
    {
     "data": {
      "text/html": [
       "\n",
       "        <iframe\n",
       "            width=\"950px\"\n",
       "            height=\"800px\"\n",
       "            src=\"all.html\"\n",
       "            frameborder=\"0\"\n",
       "            allowfullscreen\n",
       "            \n",
       "        ></iframe>\n",
       "        "
      ],
      "text/plain": [
       "<IPython.lib.display.IFrame at 0x7f2b2c6397f0>"
      ]
     },
     "execution_count": 9,
     "metadata": {},
     "output_type": "execute_result"
    }
   ],
   "source": [
    "g5 = createSettings()\n",
    "#g5.show_buttons(filter_=['nodes'])\n",
    "submitters = [jessie_categories, shaina_categories, erin_categories, luke_categories]\n",
    "g = nx.Graph()\n",
    "g.add_node(-1, label=\"ALL\", color=\"black\", size=20, title=\"Central node\", group=\"central\")\n",
    "\n",
    "index = 0\n",
    "outerIndex = 0\n",
    "shapes = [\"square\", \"diamond\", \"triangle\", \"dot\"]\n",
    "msg = \"trst\"\n",
    "categories = ['School','Family','Friend','Stranger','Other','Work']\n",
    "\n",
    "submitter_color2={\n",
    "    'jessie_categories': '#4BC6C7', #Blue\n",
    "    'shaina_categories': '#FFC300', #Yellow\n",
    "    'erin_categories': '#EE3110',#Red\n",
    "    'luke_categories': '#80CD0A', #Green  \n",
    "}\n",
    "\n",
    "\n",
    "def addNodes(g, item, submitter, df, index, prevIndex, start=None):\n",
    "\n",
    "    if item in df.keys():\n",
    "        #print(categories_color[item])\n",
    "        labelMsg = f\"{item} ({round(df[item], 2)})\"\n",
    "        msg = f\"<p><b>Category: </b>{item} <br><b>Average mood: </b>{round(df[item],2)}<br><b>Extroversion: </b>{extraversion[submitter]}<br><b>Submitter:</b> {submitter}</p>\"\n",
    "        g.add_node(index, \n",
    "                       label=labelMsg,                   \n",
    "                       #Size = total propoprtion\n",
    "                       size=df[item]*5,\n",
    "                       title=msg,\n",
    "                       group=submitter,\n",
    "                       #value=value[1]*10,\n",
    "                       color=categories_color[item],\n",
    "                       mass=df[item],\n",
    "                       width=1,\n",
    "                       shape=submitter_shape[submitter]\n",
    "                    )\n",
    "        if (prevIndex != index):\n",
    "  \n",
    "            g.add_edge(prevIndex, index)\n",
    "        if (start != None):\n",
    "            g.add_edge(index, start)\n",
    "       \n",
    "        prevIndex = index\n",
    "        index+=1\n",
    "    \n",
    "    return (index, prevIndex)\n",
    "\n",
    "\n",
    "#Link all the same category nodes\n",
    "for item in categories:\n",
    "\n",
    "    prevIndex=-1\n",
    "    \n",
    "    start = index\n",
    "    indexes = addNodes(g, item, 'Jessie', jessie_categories, index, prevIndex)\n",
    "    indexes = addNodes(g, item, 'Shaina', shaina_categories, indexes[0], indexes[1])\n",
    "    indexes = addNodes(g, item, 'Luke', luke_categories, indexes[0], indexes[1])\n",
    "    indexes = addNodes(g, item, 'Erin', erin_categories, indexes[0], indexes[1], start)\n",
    "    \n",
    "    index = indexes[0]+1\n",
    "    \n",
    "\n",
    "            \n",
    "\"\"\"\n",
    "for categories in submitters:    \n",
    "    for item in categories:\n",
    "        print(item)\n",
    "        g.add_node(index, \n",
    "                   label=item[0],                   \n",
    "                   #Size = total propoprtion\n",
    "                   size=item[1]*10,\n",
    "                   #title=msg,\n",
    "                   group=outerIndex,\n",
    "                   value=item[1]*10,\n",
    "                   color=categories_color[item[0]],\n",
    "                   mass=item[1],\n",
    "                   shape=shapes[outerIndex]\n",
    "                )    \n",
    "        g.add_edge(-1, index, value = item[1]*10)\n",
    "        index+=1\n",
    "    outerIndex+=1\n",
    "\"\"\"\n",
    "\n",
    "g5.from_nx(g)\n",
    "g5.show('all.html')\n",
    "\n"
   ]
  },
  {
   "cell_type": "markdown",
   "id": "c177c207",
   "metadata": {},
   "source": [
    "Current mappings:\n",
    "- Color: category\n",
    "- Length of edge: mood\n",
    "- Size of node: mood\n",
    "\n",
    "Revised mapping:\n",
    "\n",
    "Size of node: # of interactions for that category (percentage of interactions)\n",
    "\n",
    "- Extraversion/Submitter\n",
    "    - Shape\n",
    "- Mood:\n",
    "    - Length of the edge\n",
    "- Different categories of people (6 nodes)\n",
    "    - Single node\n",
    "    - Color + label\n",
    "\n",
    "Tooltip (extra variables)\n",
    "\n"
   ]
  },
  {
   "cell_type": "code",
   "execution_count": null,
   "id": "dd2422f8",
   "metadata": {},
   "outputs": [],
   "source": []
  },
  {
   "cell_type": "code",
   "execution_count": null,
   "id": "3e27eca3",
   "metadata": {},
   "outputs": [],
   "source": []
  }
 ],
 "metadata": {
  "kernelspec": {
   "display_name": "Python 3 (ipykernel)",
   "language": "python",
   "name": "python3"
  },
  "language_info": {
   "codemirror_mode": {
    "name": "ipython",
    "version": 3
   },
   "file_extension": ".py",
   "mimetype": "text/x-python",
   "name": "python",
   "nbconvert_exporter": "python",
   "pygments_lexer": "ipython3",
   "version": "3.8.5"
  }
 },
 "nbformat": 4,
 "nbformat_minor": 5
}
